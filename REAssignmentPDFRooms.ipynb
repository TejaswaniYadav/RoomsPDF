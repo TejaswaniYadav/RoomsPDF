{
 "cells": [
  {
   "cell_type": "markdown",
   "id": "baef7a1c",
   "metadata": {},
   "source": [
    "# Regular Expression Assignment\n",
    "# Submitted By: Tejaswani Yadav"
   ]
  },
  {
   "cell_type": "code",
   "execution_count": 522,
   "id": "5fb30154",
   "metadata": {},
   "outputs": [],
   "source": [
    "import pandas as pd\n",
    "import numpy as np\n",
    "from pdfminer.high_level import extract_text\n",
    "import re\n",
    "import os\n",
    "import zipfile"
   ]
  },
  {
   "cell_type": "code",
   "execution_count": null,
   "id": "0a5f9b0d",
   "metadata": {},
   "outputs": [],
   "source": [
    "## The Assignment reads the n no features from a stack of 30 PDF files.Store it into a dataframe and convert it into a csv file.  "
   ]
  },
  {
   "cell_type": "code",
   "execution_count": 523,
   "id": "0a1e737a",
   "metadata": {},
   "outputs": [
    {
     "data": {
      "text/plain": [
       "'C:\\\\Users\\\\tejas\\\\OneDrive\\\\Desktop\\\\Assignment\\\\Data Wrangling\\\\Assignment 2\\\\homes'"
      ]
     },
     "execution_count": 523,
     "metadata": {},
     "output_type": "execute_result"
    }
   ],
   "source": [
    "pwd # Finding the present working directory"
   ]
  },
  {
   "cell_type": "code",
   "execution_count": 524,
   "id": "0c8484da",
   "metadata": {},
   "outputs": [],
   "source": [
    "# Changing the present working directory to the folder directory which contains the List of PDFs\n",
    "Path=\"C:/Users/tejas/OneDrive/Desktop/Assignment/Data Wrangling/Assignment 2/homes\"\n"
   ]
  },
  {
   "cell_type": "code",
   "execution_count": 525,
   "id": "1b36dede",
   "metadata": {},
   "outputs": [
    {
     "data": {
      "text/plain": [
       "'C:\\\\Users\\\\tejas\\\\OneDrive\\\\Desktop\\\\Assignment\\\\Data Wrangling\\\\Assignment 2\\\\homes'"
      ]
     },
     "execution_count": 525,
     "metadata": {},
     "output_type": "execute_result"
    }
   ],
   "source": [
    "pwd# Again checking the Directory Name"
   ]
  },
  {
   "cell_type": "code",
   "execution_count": 526,
   "id": "c38ac30f",
   "metadata": {},
   "outputs": [],
   "source": [
    "# Reading the PDFs path to a list\n",
    "files_and_directories = os.listdir(Path)"
   ]
  },
  {
   "cell_type": "code",
   "execution_count": 527,
   "id": "35cde17b",
   "metadata": {},
   "outputs": [
    {
     "data": {
      "text/plain": [
       "list"
      ]
     },
     "execution_count": 527,
     "metadata": {},
     "output_type": "execute_result"
    }
   ],
   "source": [
    "# Checking the type of the File\n",
    "type(files_and_directories)"
   ]
  },
  {
   "cell_type": "code",
   "execution_count": 528,
   "id": "5ea1e00d",
   "metadata": {},
   "outputs": [],
   "source": [
    "# Change the Directory to the directory where PDFs are stored \n",
    "os.chdir(Path)"
   ]
  },
  {
   "cell_type": "code",
   "execution_count": 529,
   "id": "73bb91b9",
   "metadata": {},
   "outputs": [],
   "source": [
    "# Creating an empty list to store the path and extracting the file with Reading the binary from the PDFs and skipping the Images.\n",
    "pathList=[]\n",
    "for path in range(len(files_and_directories)):\n",
    "    pathList.append(extract_text(files_and_directories[path],'rb'))"
   ]
  },
  {
   "cell_type": "code",
   "execution_count": 530,
   "id": "34e7bed2",
   "metadata": {},
   "outputs": [],
   "source": [
    "# Regular Expression for extracting the features\n",
    "reRating=re.compile('\\d+\\.\\d+')# Regular expression for reading the rating of the Rooms\n",
    "rePrice=re.compile('\\$[0-9]+')# Regular expression for reading the Price of the Rooms\n",
    "reBed=re.compile('[0-9]+ bed')# Regular expression for reading the No of beds in a Room\n",
    "reGuests=re.compile('[0-9]+ guests')# Regular expression for reading the No of guests for the Rooms\n",
    "reBath=re.compile('[0-9]+ bath')# Regular expression for reading the no of Bathrooms in a Room\n",
    "reReviews=re.compile('\\d+ reviews')# Regular expression for knowing the no of reviews for Hotel\n",
    "#reCheckout=re.compile('Checkout: ([0-9]|0[0-9]|1[0-9]|2[0-3]):([0-5][0-9])\\s*([AaPp][Mm])')\n",
    "reHost=re.compile('Hosted by [a-zA-Z]+')# Regular expression for reading the Name of the host\n",
    "reFree=re.compile('Free [a-zA-Z]+')# Regular Expression for reading the Free facilities available in Hotel"
   ]
  },
  {
   "cell_type": "code",
   "execution_count": 531,
   "id": "21438a30",
   "metadata": {},
   "outputs": [
    {
     "data": {
      "text/plain": [
       "31"
      ]
     },
     "execution_count": 531,
     "metadata": {},
     "output_type": "execute_result"
    }
   ],
   "source": [
    "len(pathList)# Finding the No of PDFs in List "
   ]
  },
  {
   "cell_type": "code",
   "execution_count": 532,
   "id": "bf2c5e4c",
   "metadata": {},
   "outputs": [],
   "source": [
    "# Reallocating the Path to Roomlist\n",
    "RoomList=pathList"
   ]
  },
  {
   "cell_type": "code",
   "execution_count": 533,
   "id": "cdefbb74",
   "metadata": {},
   "outputs": [],
   "source": [
    "R1=[]\n",
    "for i in range(len(RoomList)):\n",
    "    temp=[]\n",
    "    if reRating.search(RoomList[i]):\n",
    "        temp.append(re.findall(reRating,RoomList[i])[0])\n",
    "    else:\n",
    "        temp.append('No Rating Listed') \n",
    "    if rePrice.search(RoomList[i]):\n",
    "        temp.append(re.findall(rePrice,RoomList[i])[0])\n",
    "    else:\n",
    "        temp.append('No Price Listed')         \n",
    "    #temp.append(re.findall(rePrice,RoomList[i])[0])\n",
    "    if reGuests.search(RoomList[i]):\n",
    "        temp.append(re.findall(reGuests,RoomList[i])[0])\n",
    "    else:\n",
    "        temp.append('No of Guests not Listed')\n",
    "    if reBed.search(RoomList[i]):\n",
    "        temp.append(re.findall(reBed,RoomList[i])[0])\n",
    "    else:\n",
    "        temp.append('No Beds Listed')\n",
    "    if reBath.search(RoomList[i]):\n",
    "        temp.append(re.findall(reBath,RoomList[i])[0])\n",
    "    else:\n",
    "        temp.append('No Bath Listed') \n",
    "    temp.append(re.findall(reReviews,RoomList[i])[0])\n",
    "    if reHost.search(RoomList[i]):\n",
    "        temp.append(re.findall(reHost,RoomList[i])[0])\n",
    "    else:\n",
    "        temp.append('Cannot Identify Host Name') \n",
    "    if reFree.search(RoomList[i]):\n",
    "        temp.append(re.findall(reFree,RoomList[i])[0])\n",
    "    else:\n",
    "        temp.append('No Extra Service') \n",
    "\n",
    "    #temp.append(re.findall(reCheckout,RoomList[i])[0])\n",
    "    R1.append(temp)"
   ]
  },
  {
   "cell_type": "code",
   "execution_count": 534,
   "id": "42864ede",
   "metadata": {},
   "outputs": [
    {
     "data": {
      "text/plain": [
       "31"
      ]
     },
     "execution_count": 534,
     "metadata": {},
     "output_type": "execute_result"
    }
   ],
   "source": [
    "# Finding the list with the No of Values\n",
    "len(R1)"
   ]
  },
  {
   "cell_type": "code",
   "execution_count": 535,
   "id": "2c40f821",
   "metadata": {},
   "outputs": [],
   "source": [
    "# FName Cotains a Column of Features \n",
    "FNAME=['Rating','Price','No of Guests','Bed','Bath','Reviews','Host','Free']\n",
    "# Creating a Dictionary object of feature s and the rooms columns\n",
    "data={'Features':FNAME,'Room1':R1[0],'Room2':R1[1],'Room3':R1[2],'Room4':R1[3],'Room5':R1[4],'Room6':R1[5],'Room7':R1[6],'Room8':R1[7],'Room9':R1[8],'Room10':R1[9],'Room11':R1[10],'Room12':R1[11],\n",
    "     'Room12':R1[11],'Room13':R1[12],'Room14':R1[13],'Room15':R1[14],'Room16':R1[15],'Room17':R1[16],'Room18':R1[17]\n",
    "     ,'Room19':R1[18],'Room20':R1[19],'Room21':R1[20],'Room22':R1[21],'Room23':R1[22],'Room24':R1[23]\n",
    "     ,'Room25':R1[24],'Room26':R1[25],'Room27':R1[26],'Room28':R1[27],'Room29':R1[28],'Room30':R1[29]}\n",
    "# Creating Dataframe of the Dictionary object\n",
    "Features=pd.DataFrame(data)"
   ]
  },
  {
   "cell_type": "code",
   "execution_count": 536,
   "id": "27b994f0",
   "metadata": {},
   "outputs": [
    {
     "data": {
      "text/html": [
       "<div>\n",
       "<style scoped>\n",
       "    .dataframe tbody tr th:only-of-type {\n",
       "        vertical-align: middle;\n",
       "    }\n",
       "\n",
       "    .dataframe tbody tr th {\n",
       "        vertical-align: top;\n",
       "    }\n",
       "\n",
       "    .dataframe thead th {\n",
       "        text-align: right;\n",
       "    }\n",
       "</style>\n",
       "<table border=\"1\" class=\"dataframe\">\n",
       "  <thead>\n",
       "    <tr style=\"text-align: right;\">\n",
       "      <th></th>\n",
       "      <th>Features</th>\n",
       "      <th>Room1</th>\n",
       "      <th>Room2</th>\n",
       "      <th>Room3</th>\n",
       "      <th>Room4</th>\n",
       "      <th>Room5</th>\n",
       "      <th>Room6</th>\n",
       "      <th>Room7</th>\n",
       "      <th>Room8</th>\n",
       "      <th>Room9</th>\n",
       "      <th>...</th>\n",
       "      <th>Room21</th>\n",
       "      <th>Room22</th>\n",
       "      <th>Room23</th>\n",
       "      <th>Room24</th>\n",
       "      <th>Room25</th>\n",
       "      <th>Room26</th>\n",
       "      <th>Room27</th>\n",
       "      <th>Room28</th>\n",
       "      <th>Room29</th>\n",
       "      <th>Room30</th>\n",
       "    </tr>\n",
       "  </thead>\n",
       "  <tbody>\n",
       "    <tr>\n",
       "      <th>0</th>\n",
       "      <td>Rating</td>\n",
       "      <td>5.0</td>\n",
       "      <td>4.91</td>\n",
       "      <td>5.0</td>\n",
       "      <td>4.80</td>\n",
       "      <td>4.75</td>\n",
       "      <td>4.52</td>\n",
       "      <td>4.85</td>\n",
       "      <td>4.69</td>\n",
       "      <td>4.98</td>\n",
       "      <td>...</td>\n",
       "      <td>4.33</td>\n",
       "      <td>5.0</td>\n",
       "      <td>4.86</td>\n",
       "      <td>4.89</td>\n",
       "      <td>4.77</td>\n",
       "      <td>4.92</td>\n",
       "      <td>4.82</td>\n",
       "      <td>4.74</td>\n",
       "      <td>4.23</td>\n",
       "      <td>4.75</td>\n",
       "    </tr>\n",
       "    <tr>\n",
       "      <th>1</th>\n",
       "      <td>Price</td>\n",
       "      <td>$393</td>\n",
       "      <td>$267</td>\n",
       "      <td>$291</td>\n",
       "      <td>$739</td>\n",
       "      <td>$375</td>\n",
       "      <td>$324</td>\n",
       "      <td>$116</td>\n",
       "      <td>$271</td>\n",
       "      <td>$820</td>\n",
       "      <td>...</td>\n",
       "      <td>$617</td>\n",
       "      <td>$171</td>\n",
       "      <td>$629</td>\n",
       "      <td>$366</td>\n",
       "      <td>$550</td>\n",
       "      <td>$343</td>\n",
       "      <td>$350</td>\n",
       "      <td>$239</td>\n",
       "      <td>$172</td>\n",
       "      <td>$389</td>\n",
       "    </tr>\n",
       "    <tr>\n",
       "      <th>2</th>\n",
       "      <td>No of Guests</td>\n",
       "      <td>6 guests</td>\n",
       "      <td>6 guests</td>\n",
       "      <td>6 guests</td>\n",
       "      <td>12 guests</td>\n",
       "      <td>6 guests</td>\n",
       "      <td>6 guests</td>\n",
       "      <td>4 guests</td>\n",
       "      <td>6 guests</td>\n",
       "      <td>6 guests</td>\n",
       "      <td>...</td>\n",
       "      <td>8 guests</td>\n",
       "      <td>2 guests</td>\n",
       "      <td>6 guests</td>\n",
       "      <td>6 guests</td>\n",
       "      <td>6 guests</td>\n",
       "      <td>3 guests</td>\n",
       "      <td>4 guests</td>\n",
       "      <td>4 guests</td>\n",
       "      <td>4 guests</td>\n",
       "      <td>6 guests</td>\n",
       "    </tr>\n",
       "    <tr>\n",
       "      <th>3</th>\n",
       "      <td>Bed</td>\n",
       "      <td>2 bed</td>\n",
       "      <td>2 bed</td>\n",
       "      <td>2 bed</td>\n",
       "      <td>4 bed</td>\n",
       "      <td>2 bed</td>\n",
       "      <td>2 bed</td>\n",
       "      <td>2 bed</td>\n",
       "      <td>2 bed</td>\n",
       "      <td>2 bed</td>\n",
       "      <td>...</td>\n",
       "      <td>3 bed</td>\n",
       "      <td>1 bed</td>\n",
       "      <td>2 bed</td>\n",
       "      <td>2 bed</td>\n",
       "      <td>2 bed</td>\n",
       "      <td>1 bed</td>\n",
       "      <td>1 bed</td>\n",
       "      <td>1 bed</td>\n",
       "      <td>1 bed</td>\n",
       "      <td>2 bed</td>\n",
       "    </tr>\n",
       "    <tr>\n",
       "      <th>4</th>\n",
       "      <td>Bath</td>\n",
       "      <td>2 bath</td>\n",
       "      <td>2 bath</td>\n",
       "      <td>2 bath</td>\n",
       "      <td>4 bath</td>\n",
       "      <td>2 bath</td>\n",
       "      <td>2 bath</td>\n",
       "      <td>1 bath</td>\n",
       "      <td>1 bath</td>\n",
       "      <td>2 bath</td>\n",
       "      <td>...</td>\n",
       "      <td>2 bath</td>\n",
       "      <td>No Bath Listed</td>\n",
       "      <td>2 bath</td>\n",
       "      <td>1 bath</td>\n",
       "      <td>2 bath</td>\n",
       "      <td>1 bath</td>\n",
       "      <td>1 bath</td>\n",
       "      <td>1 bath</td>\n",
       "      <td>1 bath</td>\n",
       "      <td>2 bath</td>\n",
       "    </tr>\n",
       "    <tr>\n",
       "      <th>5</th>\n",
       "      <td>Reviews</td>\n",
       "      <td>9 reviews</td>\n",
       "      <td>127 reviews</td>\n",
       "      <td>61 reviews</td>\n",
       "      <td>10 reviews</td>\n",
       "      <td>59 reviews</td>\n",
       "      <td>56 reviews</td>\n",
       "      <td>192 reviews</td>\n",
       "      <td>36 reviews</td>\n",
       "      <td>48 reviews</td>\n",
       "      <td>...</td>\n",
       "      <td>3 reviews</td>\n",
       "      <td>9 reviews</td>\n",
       "      <td>22 reviews</td>\n",
       "      <td>110 reviews</td>\n",
       "      <td>81 reviews</td>\n",
       "      <td>78 reviews</td>\n",
       "      <td>464 reviews</td>\n",
       "      <td>139 reviews</td>\n",
       "      <td>40 reviews</td>\n",
       "      <td>103 reviews</td>\n",
       "    </tr>\n",
       "    <tr>\n",
       "      <th>6</th>\n",
       "      <td>Host</td>\n",
       "      <td>Hosted by Catalina</td>\n",
       "      <td>Hosted by Jacob</td>\n",
       "      <td>Hosted by Blake</td>\n",
       "      <td>Hosted by Kim</td>\n",
       "      <td>Hosted by Jenny</td>\n",
       "      <td>Hosted by Jenny</td>\n",
       "      <td>Hosted by Brian</td>\n",
       "      <td>Hosted by Evolve</td>\n",
       "      <td>Hosted by The</td>\n",
       "      <td>...</td>\n",
       "      <td>Hosted by Catalina</td>\n",
       "      <td>Hosted by Noelle</td>\n",
       "      <td>Hosted by Amber</td>\n",
       "      <td>Hosted by Michael</td>\n",
       "      <td>Hosted by Jeremy</td>\n",
       "      <td>Hosted by Helmut</td>\n",
       "      <td>Hosted by Helmut</td>\n",
       "      <td>Hosted by Michael</td>\n",
       "      <td>Hosted by Evolve</td>\n",
       "      <td>Hosted by Kim</td>\n",
       "    </tr>\n",
       "    <tr>\n",
       "      <th>7</th>\n",
       "      <td>Free</td>\n",
       "      <td>No Extra Service</td>\n",
       "      <td>Free parking</td>\n",
       "      <td>Free parking</td>\n",
       "      <td>No Extra Service</td>\n",
       "      <td>Free parking</td>\n",
       "      <td>No Extra Service</td>\n",
       "      <td>Free street</td>\n",
       "      <td>No Extra Service</td>\n",
       "      <td>Free parking</td>\n",
       "      <td>...</td>\n",
       "      <td>No Extra Service</td>\n",
       "      <td>No Extra Service</td>\n",
       "      <td>Free parking</td>\n",
       "      <td>No Extra Service</td>\n",
       "      <td>Free parking</td>\n",
       "      <td>Free parking</td>\n",
       "      <td>No Extra Service</td>\n",
       "      <td>No Extra Service</td>\n",
       "      <td>No Extra Service</td>\n",
       "      <td>No Extra Service</td>\n",
       "    </tr>\n",
       "  </tbody>\n",
       "</table>\n",
       "<p>8 rows × 31 columns</p>\n",
       "</div>"
      ],
      "text/plain": [
       "       Features               Room1            Room2            Room3  \\\n",
       "0        Rating                 5.0             4.91              5.0   \n",
       "1         Price                $393             $267             $291   \n",
       "2  No of Guests            6 guests         6 guests         6 guests   \n",
       "3           Bed               2 bed            2 bed            2 bed   \n",
       "4          Bath              2 bath           2 bath           2 bath   \n",
       "5       Reviews           9 reviews      127 reviews       61 reviews   \n",
       "6          Host  Hosted by Catalina  Hosted by Jacob  Hosted by Blake   \n",
       "7          Free    No Extra Service     Free parking     Free parking   \n",
       "\n",
       "              Room4            Room5             Room6            Room7  \\\n",
       "0              4.80             4.75              4.52             4.85   \n",
       "1              $739             $375              $324             $116   \n",
       "2         12 guests         6 guests          6 guests         4 guests   \n",
       "3             4 bed            2 bed             2 bed            2 bed   \n",
       "4            4 bath           2 bath            2 bath           1 bath   \n",
       "5        10 reviews       59 reviews        56 reviews      192 reviews   \n",
       "6     Hosted by Kim  Hosted by Jenny   Hosted by Jenny  Hosted by Brian   \n",
       "7  No Extra Service     Free parking  No Extra Service      Free street   \n",
       "\n",
       "              Room8          Room9  ...              Room21            Room22  \\\n",
       "0              4.69           4.98  ...                4.33               5.0   \n",
       "1              $271           $820  ...                $617              $171   \n",
       "2          6 guests       6 guests  ...            8 guests          2 guests   \n",
       "3             2 bed          2 bed  ...               3 bed             1 bed   \n",
       "4            1 bath         2 bath  ...              2 bath    No Bath Listed   \n",
       "5        36 reviews     48 reviews  ...           3 reviews         9 reviews   \n",
       "6  Hosted by Evolve  Hosted by The  ...  Hosted by Catalina  Hosted by Noelle   \n",
       "7  No Extra Service   Free parking  ...    No Extra Service  No Extra Service   \n",
       "\n",
       "            Room23             Room24            Room25            Room26  \\\n",
       "0             4.86               4.89              4.77              4.92   \n",
       "1             $629               $366              $550              $343   \n",
       "2         6 guests           6 guests          6 guests          3 guests   \n",
       "3            2 bed              2 bed             2 bed             1 bed   \n",
       "4           2 bath             1 bath            2 bath            1 bath   \n",
       "5       22 reviews        110 reviews        81 reviews        78 reviews   \n",
       "6  Hosted by Amber  Hosted by Michael  Hosted by Jeremy  Hosted by Helmut   \n",
       "7     Free parking   No Extra Service      Free parking      Free parking   \n",
       "\n",
       "             Room27             Room28            Room29            Room30  \n",
       "0              4.82               4.74              4.23              4.75  \n",
       "1              $350               $239              $172              $389  \n",
       "2          4 guests           4 guests          4 guests          6 guests  \n",
       "3             1 bed              1 bed             1 bed             2 bed  \n",
       "4            1 bath             1 bath            1 bath            2 bath  \n",
       "5       464 reviews        139 reviews        40 reviews       103 reviews  \n",
       "6  Hosted by Helmut  Hosted by Michael  Hosted by Evolve     Hosted by Kim  \n",
       "7  No Extra Service   No Extra Service  No Extra Service  No Extra Service  \n",
       "\n",
       "[8 rows x 31 columns]"
      ]
     },
     "execution_count": 536,
     "metadata": {},
     "output_type": "execute_result"
    }
   ],
   "source": [
    "# Printing the Feartures\n",
    "Features"
   ]
  },
  {
   "cell_type": "code",
   "execution_count": 491,
   "id": "e03f5720",
   "metadata": {},
   "outputs": [],
   "source": [
    "# Converting the DataFrame into a CSV file\n",
    "Features.to_csv(\"features-retrieved_by_TejaswaniYadav.csv\")"
   ]
  },
  {
   "cell_type": "code",
   "execution_count": null,
   "id": "d96dec0d",
   "metadata": {},
   "outputs": [],
   "source": []
  },
  {
   "cell_type": "code",
   "execution_count": null,
   "id": "dd565391",
   "metadata": {},
   "outputs": [],
   "source": []
  },
  {
   "cell_type": "code",
   "execution_count": null,
   "id": "55868cb7",
   "metadata": {},
   "outputs": [],
   "source": []
  }
 ],
 "metadata": {
  "kernelspec": {
   "display_name": "Python 3",
   "language": "python",
   "name": "python3"
  },
  "language_info": {
   "codemirror_mode": {
    "name": "ipython",
    "version": 3
   },
   "file_extension": ".py",
   "mimetype": "text/x-python",
   "name": "python",
   "nbconvert_exporter": "python",
   "pygments_lexer": "ipython3",
   "version": "3.8.8"
  }
 },
 "nbformat": 4,
 "nbformat_minor": 5
}
